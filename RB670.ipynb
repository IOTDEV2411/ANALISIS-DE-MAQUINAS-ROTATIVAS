{
 "cells": [
  {
   "cell_type": "markdown",
   "id": "38d1917b-3240-4415-9570-5637f61e90c2",
   "metadata": {},
   "source": [
    "# **CODIGO PARA LIMPIEZA DE ARCHIVOS ORIGINALES**"
   ]
  },
  {
   "cell_type": "markdown",
   "id": "686a1c9b-4788-4b47-b8f2-16b4ab4c3b8a",
   "metadata": {},
   "source": [
    "## **RESUMEN DE NUESTRO CODIGO**\n",
    "\n",
    "El presente codigo se encarga de realizar la limpieza de los archivos fuentes originales (con formato .csv).\n",
    "Ademas, crearemos un archivo en excel con 02 pestanas que contendran ya los datos filtrados para ser usados\n",
    "en los siguientes programas **RB670-VEN099** y **RB670-VEN103**.\n",
    "\n",
    "Para este fin, seguiremos los siguientes pasos:"
   ]
  },
  {
   "cell_type": "markdown",
   "id": "48487ccf-8d17-4f04-adef-04c92f3cbf92",
   "metadata": {},
   "source": [
    "### **PASO 01: IMPORTACION DE LIBRERIAS**\n",
    "\n",
    "Para el presente codigo, importaremos 02 librerias de Python:\n",
    "\n",
    "- **Pandas**, para realizar todas nuestras operaciones de limpieza.\n",
    "\n",
    "- **OS**, para poder trabajar con las rutas actuales de nuestro proyecto, de tal forma que sin importar donde guardemos la carpeta del proyecto, el codigo siga funcionando correctamente."
   ]
  },
  {
   "cell_type": "code",
   "execution_count": null,
   "id": "4f165330-93f8-4942-b622-7e6e6c9b795e",
   "metadata": {},
   "outputs": [],
   "source": [
    "import pandas as pd\n",
    "import os"
   ]
  },
  {
   "cell_type": "markdown",
   "id": "208450ae-6fa5-4634-96c2-9d967d15ae15",
   "metadata": {},
   "source": [
    "### **PASO 02: OBTENCION DE RUTAS DE UBICACION DE ARCHIVOS**\n",
    "\n",
    "En esta seccion, usaremos el metodo *getcwd()* de la libreria *OS* para obtener la ubicacion actual de nuestro proyecto.\n",
    "Esto con el fin de poder importar nuestros archivos *.csv* sin importar donde se guarde todo el proyecto ya que la\n",
    "*estructura de almacenamiento* de nuestros archivos origen se mantendra"
   ]
  },
  {
   "cell_type": "code",
   "execution_count": null,
   "id": "e95b1960-3a87-4507-87e2-2f4442f17568",
   "metadata": {},
   "outputs": [],
   "source": [
    "cwd = os.getcwd()\n",
    "dsf_VEN099 = cwd +'\\Datos ventiladores del RB670'+'\\ORIGINALES'+'\\RB670-VEN099.csv'\n",
    "dsf_VEN103 = cwd +'\\Datos ventiladores del RB670'+'\\ORIGINALES'+'\\RB670-VEN103.csv'"
   ]
  },
  {
   "cell_type": "markdown",
   "id": "5766f8b4-b90d-4267-8a72-06b175d113e7",
   "metadata": {},
   "source": [
    "### **PASO 03: IMPORTACION Y ACONDICIONAMIENTO DE DATOS**\n",
    "\n",
    "En esta seccion, importaremos los datos de nuestros archivos *.csv* para realizar las operaciones respectivas.\n",
    "\n",
    "Para este caso, forzaremos la columna *Fecha y Hora* para que sea de tipo *datetime*. Ademas, definiremos dicha columna como *indice*.\n",
    "\n",
    "Ademas, importaremos solo *180000 filas* de cada archivo con formato *latin1*.\n",
    "\n",
    "Debido a que, durante las revisiones de los archivos fuentes, se encontro que existian filas que se guardaron como si fueran de tipo *texto*, *forzaremos* que todas las filas se reconozcan como *numericos*"
   ]
  },
  {
   "cell_type": "code",
   "execution_count": null,
   "id": "72d30b5d-f0fc-4fd3-899e-fb37c53e1141",
   "metadata": {},
   "outputs": [],
   "source": [
    "df_VEN099 = pd.read_csv(dsf_VEN099,parse_dates=['Fecha y hora'],index_col='Fecha y hora',nrows=180000, encoding='latin1')\n",
    "df_VEN099 = df_VEN099.apply(pd.to_numeric, errors='coerce')"
   ]
  },
  {
   "cell_type": "code",
   "execution_count": null,
   "id": "2abd26fc-0eab-4c52-899a-715047bdfc43",
   "metadata": {},
   "outputs": [],
   "source": [
    "df_VEN103 = pd.read_csv(dsf_VEN103,parse_dates=['Fecha y hora'],index_col='Fecha y hora',nrows=180000, encoding='latin1')\n",
    "df_VEN103 = df_VEN103.apply(pd.to_numeric, errors='coerce')"
   ]
  },
  {
   "cell_type": "markdown",
   "id": "c3883426-aab3-4bfc-8400-72f9b9089caf",
   "metadata": {},
   "source": [
    "### **PASO 04: LIMPIEZA DE DATOS**\n",
    "\n",
    "Luego de importar todos los datos como tipo *numerico*, ahora procedemos a realizar la limpieza respectiva de nuestros datos.\n",
    "Como primer paso, reemplazaremos los registros de las columnas que muestran *valores negativos* ya que, debido a la naturaleza de los datos, todos los valores deben ser *mayores o iguales a cero*. Para el caso de los *valores negativos*, igualaremos todos a *cero* ya que este es el valor correcto que se debe asignar. Dicha accion se realizara usando el metodo *mask* disponibles para todos los *dataframes*.\n",
    "\n",
    "Finalmente, para que estos cambios se actualicen en nuestros *dataframes*, haremos uso de la sentencia *inplace=True*"
   ]
  },
  {
   "cell_type": "code",
   "execution_count": null,
   "id": "41c422d8-c9cd-4294-ab33-bda6ade24c0f",
   "metadata": {},
   "outputs": [],
   "source": [
    "df_VEN099['Vibración Vent 2'].mask((df_VEN099['Vibración Vent 2']<0.0),0,inplace=True)"
   ]
  },
  {
   "cell_type": "code",
   "execution_count": null,
   "id": "42fea778-1121-4012-9d44-9a7a218cb5ec",
   "metadata": {},
   "outputs": [],
   "source": [
    "df_VEN103['Vibración Motor 1'].mask((df_VEN103['Vibración Motor 1']<0.0),0,inplace=True)"
   ]
  },
  {
   "cell_type": "code",
   "execution_count": null,
   "id": "4eaf3d0f-3c3e-4693-9459-f6f1f1d25cfa",
   "metadata": {},
   "outputs": [],
   "source": [
    "df_VEN103['Vibración Motor 2'].mask((df_VEN103['Vibración Motor 2']<0.0),0,inplace=True)"
   ]
  },
  {
   "cell_type": "code",
   "execution_count": null,
   "id": "8b6dbeb2-7511-4df5-9046-c4e26cc6b1dc",
   "metadata": {},
   "outputs": [],
   "source": [
    "df_VEN103['Vibración Vent 1'].mask((df_VEN103['Vibración Vent 1']<0.0),0,inplace=True)"
   ]
  },
  {
   "cell_type": "code",
   "execution_count": null,
   "id": "22d56b96-bea5-4028-8b20-def6c279bd19",
   "metadata": {},
   "outputs": [],
   "source": [
    "df_VEN103['Vibración Vent 2'].mask((df_VEN103['Vibración Vent 2']<0.0),0,inplace=True)"
   ]
  },
  {
   "cell_type": "markdown",
   "id": "2abd1c89-a38d-4eb1-aba4-c7bf1d939f7e",
   "metadata": {},
   "source": [
    "### **PASO 05: LLENADO DE REGISTROS CON NAN**\n",
    "\n",
    "Luego de realizar el *paso 03*, los registros de las columnas que hayan tenido valores que no sean de tipo *numerico*, se llenaran con el valor *NAN*.\n",
    "En este caso, disponemos del metodo *fillna*, el cual se encargara de reemplazar los registros con valor *NAN* con valores igual a 0."
   ]
  },
  {
   "cell_type": "code",
   "execution_count": null,
   "id": "4cc86c27-635e-4def-aa93-f4ff74aa7319",
   "metadata": {},
   "outputs": [],
   "source": [
    "df_VEN099.fillna(0,inplace=True)"
   ]
  },
  {
   "cell_type": "code",
   "execution_count": null,
   "id": "0d6c68f5-f84a-4e0b-91b7-b43516d2ec88",
   "metadata": {},
   "outputs": [],
   "source": [
    "df_VEN103.fillna(0,inplace=True)"
   ]
  },
  {
   "cell_type": "markdown",
   "id": "bc07b28f-cf22-45d5-b6e8-fb3e4bb49f7a",
   "metadata": {},
   "source": [
    "### PASO 06: CREACION DE RUTA DE ALMACENAMIENTO\n",
    "\n",
    "Luego de haber realizado la *limpieza* de nuestros datos, ahora procedemos a crear la direccion de almacenamiento de nuestros datos limpios, asi como *el nombre de nuestro archivo*."
   ]
  },
  {
   "cell_type": "code",
   "execution_count": null,
   "id": "c525feeb-b8d0-4c10-afae-0983ac1a3957",
   "metadata": {},
   "outputs": [],
   "source": [
    "ddf = cwd +'\\Datos ventiladores del RB670'+'\\FILTRADO'+'\\Analisis_RB670.xlsx'"
   ]
  },
  {
   "cell_type": "markdown",
   "id": "20cfc15d-39f0-4418-a678-3956d19106f3",
   "metadata": {},
   "source": [
    "### PASO 07: ALMACENAMIENTO DE DATOS LIMPIOS\n",
    "\n",
    "Finalmente, procedemos a crear nuestro archivo en excel, el cual contendra 02 pestanas con los nombres de los archivos originales.\n",
    "Al igual que en los archivos originales, usaremos la columna *Fecha y hora* como nuestro *indice*.\n",
    "Tener presente que, para la *creacion* de nuestra segunda pestana, haremos uso del metodo en *pandas* llamado *ExcelWriter*. Esto con el fin de evitar que los datos del segundo dataframe sobreescriban a los datos del primero. "
   ]
  },
  {
   "cell_type": "code",
   "execution_count": null,
   "id": "6b63f357-59cd-4500-88f7-c2f3d5d17510",
   "metadata": {},
   "outputs": [],
   "source": [
    "df_VEN099.to_excel(ddf,sheet_name='VEN099',index='Fecha y hora')"
   ]
  },
  {
   "cell_type": "code",
   "execution_count": null,
   "id": "162fd87c-b485-45ad-9a0b-1cfb8012e39a",
   "metadata": {},
   "outputs": [],
   "source": [
    "with pd.ExcelWriter(ddf,engine='openpyxl',mode='a') as writer:\n",
    "    df_VEN103.to_excel(writer,sheet_name='VEN103',index='Fecha y hora')"
   ]
  }
 ],
 "metadata": {
  "kernelspec": {
   "display_name": "Python 3 (ipykernel)",
   "language": "python",
   "name": "python3"
  },
  "language_info": {
   "codemirror_mode": {
    "name": "ipython",
    "version": 3
   },
   "file_extension": ".py",
   "mimetype": "text/x-python",
   "name": "python",
   "nbconvert_exporter": "python",
   "pygments_lexer": "ipython3",
   "version": "3.11.5"
  }
 },
 "nbformat": 4,
 "nbformat_minor": 5
}
